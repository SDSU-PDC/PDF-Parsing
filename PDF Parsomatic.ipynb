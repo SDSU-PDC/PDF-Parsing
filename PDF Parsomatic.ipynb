{
 "cells": [
  {
   "cell_type": "code",
   "execution_count": 63,
   "metadata": {},
   "outputs": [],
   "source": [
    "import pandas as pd\n",
    "import numpy as np\n",
    "import os\n",
    "from pdfminer import pdfparser\n",
    "import PyPDF2 as pdf\n",
    "from tika import parser\n",
    "import re"
   ]
  },
  {
   "cell_type": "code",
   "execution_count": 124,
   "metadata": {},
   "outputs": [],
   "source": [
    "os.chdir(r\"G:\\My Drive\\FIS\\Archiving In Progress\\Cuic Laundry Closeout\\RFI's (Answered)\")"
   ]
  },
  {
   "cell_type": "code",
   "execution_count": 6,
   "metadata": {
    "scrolled": true
   },
   "outputs": [],
   "source": []
  },
  {
   "cell_type": "code",
   "execution_count": 129,
   "metadata": {},
   "outputs": [],
   "source": [
    "pdf_file = r\"G:\\My Drive\\FIS\\Archiving In Progress\\Cuic Laundry Closeout\\RFI's (Answered)\\033_Cuicacalli_Kitchen_Laundry_RFI_001_Ada_Clearance_At_Sink.pdf\""
   ]
  },
  {
   "cell_type": "markdown",
   "metadata": {},
   "source": [
    "\n",
    "### Tika Testing\n",
    "This approach works, but isn't ideal because it requires specific index locations.  A better approach will be to determine how to extract anything with 'date' via regex from the extracted text.\n"
   ]
  },
  {
   "cell_type": "code",
   "execution_count": 222,
   "metadata": {},
   "outputs": [],
   "source": [
    "'''Use Tika to read pdf file (gets stored into a dict)'''\n",
    "raw = parser.from_file(pdf_file)\n",
    "len(raw)#dateExtract = re.compile(\"(DATE: \\d{2})[/.-](\\d{2})[/.-](\\d{2})\").search(raw).group(0)\n",
    "#dateExtract\n",
    "df_dict = pd.DataFrame.from_dict(raw)\n",
    "df_dict.drop(['status', 'content'], axis=1, inplace=True)\n",
    "numPages = str(df_dict.loc[\"xmpTPg:NPages\", \"metadata\"])\n",
    "#df_dict\n",
    "#df_dict.loc(xmpTPg:NPages)\n",
    "#raw\n",
    "#numPages = raw[\"xmpTPg:NPages\"]\n",
    "#print(numPages)\n",
    "#xmpTPg:NPages\n",
    "#raw.items()"
   ]
  },
  {
   "cell_type": "markdown",
   "metadata": {},
   "source": [
    "###  Now to figure out to to loop it and put it into a df or list....."
   ]
  },
  {
   "cell_type": "code",
   "execution_count": 226,
   "metadata": {},
   "outputs": [
    {
     "name": "stdout",
     "output_type": "stream",
     "text": [
      "4\n",
      "31\n",
      "15\n",
      "14\n",
      "4\n",
      "33\n",
      "3\n",
      "12\n",
      "6\n",
      "7\n",
      "22\n",
      "20\n",
      "3\n",
      "6\n",
      "4\n",
      "33\n",
      "13\n",
      "3\n",
      "13\n",
      "15\n",
      "6\n",
      "6\n",
      "10\n",
      "4\n",
      "42\n",
      "6\n",
      "14\n",
      "10\n",
      "14\n",
      "13\n",
      "5\n",
      "7\n",
      "10\n",
      "9\n",
      "16\n",
      "6\n",
      "14\n",
      "14\n",
      "16\n",
      "15\n",
      "16\n",
      "10\n",
      "61\n",
      "13\n",
      "14\n",
      "38\n",
      "27\n",
      "45\n",
      "31\n",
      "4\n",
      "14\n",
      "14\n",
      "35\n",
      "14\n",
      "25\n"
     ]
    }
   ],
   "source": [
    "dir = os.chdir(r\"G:\\My Drive\\FIS\\Archiving In Progress\\Cuic Laundry Closeout\\Submittals\")\n",
    "\n",
    "fileList = []\n",
    "dateList = []\n",
    "numPages = []\n",
    "\n",
    "\n",
    "\n",
    "\n",
    "\n",
    "\n",
    "for file in os.listdir():\n",
    "    pages = len(parser.from_file(file))\n",
    "    rawData = parser.from_file(file)\n",
    "    raw = str(rawData)\n",
    "    df_dict = pd.DataFrame.from_dict(rawData)\n",
    "    pages = str(df_dict.loc[\"xmpTPg:NPages\", \"metadata\"])\n",
    "    dateExtract = re.compile(\"(Date: \\d{2})[/.-](\\d{2})[/.-](\\d{2})\").search(raw).group(0)\n",
    "    dateList.append(dateExtract)\n",
    "    fileList.append(file)\n",
    "    numPages.append(pages)\n",
    "    print(pages)\n",
    "\n",
    "df = pd.DataFrame({'Filename': fileList, 'Date': dateList, 'Page Count': numPages})"
   ]
  },
  {
   "cell_type": "code",
   "execution_count": 176,
   "metadata": {},
   "outputs": [
    {
     "data": {
      "text/plain": [
       "5594"
      ]
     },
     "execution_count": 176,
     "metadata": {},
     "output_type": "execute_result"
    }
   ],
   "source": [
    "len(raw)"
   ]
  },
  {
   "cell_type": "code",
   "execution_count": 228,
   "metadata": {},
   "outputs": [],
   "source": [
    "df.to_csv('file_info.csv')"
   ]
  },
  {
   "cell_type": "markdown",
   "metadata": {},
   "source": [
    "### Trying it with RFIs"
   ]
  },
  {
   "cell_type": "code",
   "execution_count": null,
   "metadata": {},
   "outputs": [],
   "source": []
  },
  {
   "cell_type": "code",
   "execution_count": null,
   "metadata": {},
   "outputs": [],
   "source": []
  },
  {
   "cell_type": "code",
   "execution_count": 175,
   "metadata": {},
   "outputs": [
    {
     "name": "stdout",
     "output_type": "stream",
     "text": [
      "<class 'str'>\n",
      "DATE: 03/20/18\n",
      "<class 'str'>\n",
      "DATE: 03/20/18\n",
      "<class 'str'>\n",
      "DATE: 03/20/18\n",
      "<class 'str'>\n",
      "DATE: 03/20/18\n",
      "<class 'str'>\n",
      "DATE: 03/20/18\n",
      "<class 'str'>\n",
      "DATE: 03/20/18\n",
      "<class 'str'>\n",
      "DATE: 03/20/18\n",
      "<class 'str'>\n",
      "DATE: 03/20/18\n",
      "<class 'str'>\n",
      "DATE: 03/20/18\n",
      "<class 'str'>\n",
      "DATE: 03/20/18\n",
      "<class 'str'>\n",
      "DATE: 03/20/18\n",
      "<class 'str'>\n",
      "DATE: 03/20/18\n",
      "<class 'str'>\n",
      "DATE: 03/20/18\n",
      "<class 'str'>\n",
      "DATE: 03/20/18\n",
      "<class 'str'>\n",
      "DATE: 03/20/18\n",
      "<class 'str'>\n",
      "DATE: 03/20/18\n",
      "<class 'str'>\n",
      "DATE: 03/20/18\n",
      "<class 'str'>\n",
      "DATE: 03/20/18\n",
      "<class 'str'>\n",
      "DATE: 03/20/18\n",
      "<class 'str'>\n",
      "DATE: 03/20/18\n",
      "<class 'str'>\n",
      "DATE: 03/20/18\n",
      "<class 'str'>\n",
      "DATE: 03/20/18\n",
      "<class 'str'>\n",
      "DATE: 03/20/18\n",
      "<class 'str'>\n",
      "DATE: 03/20/18\n",
      "<class 'str'>\n",
      "DATE: 03/20/18\n",
      "<class 'str'>\n",
      "DATE: 03/20/18\n",
      "<class 'str'>\n",
      "DATE: 03/20/18\n",
      "<class 'str'>\n",
      "DATE: 03/20/18\n",
      "<class 'str'>\n",
      "DATE: 03/20/18\n",
      "<class 'str'>\n",
      "DATE: 03/20/18\n",
      "<class 'str'>\n",
      "DATE: 03/20/18\n",
      "<class 'str'>\n",
      "DATE: 03/20/18\n",
      "<class 'str'>\n",
      "DATE: 03/20/18\n",
      "<class 'str'>\n",
      "DATE: 03/20/18\n",
      "<class 'str'>\n",
      "DATE: 03/20/18\n",
      "<class 'str'>\n",
      "DATE: 03/20/18\n",
      "<class 'str'>\n",
      "DATE: 03/20/18\n",
      "<class 'str'>\n",
      "DATE: 03/20/18\n",
      "<class 'str'>\n",
      "DATE: 03/20/18\n",
      "<class 'str'>\n",
      "DATE: 03/20/18\n"
     ]
    }
   ],
   "source": [
    "dir = os.chdir(r\"G:\\My Drive\\FIS\\Archiving In Progress\\Cuic Laundry Closeout\\RFI's (Answered)\")\n",
    "\n",
    "for file in os.listdir():\n",
    "    raw = str(parser.from_file(pdf_file)).replace('u200b', '').replace('\\\\',' ')\n",
    "    dateExtract = re.compile(\"(DATE: \\d{2})[/.-](\\d{2})[/.-](\\d{2})\").search(raw).group(0)\n",
    "    print(type(raw))\n",
    "    print(dateExtract)"
   ]
  },
  {
   "cell_type": "code",
   "execution_count": null,
   "metadata": {},
   "outputs": [],
   "source": []
  }
 ],
 "metadata": {
  "kernelspec": {
   "display_name": "Python 3",
   "language": "python",
   "name": "python3"
  },
  "language_info": {
   "codemirror_mode": {
    "name": "ipython",
    "version": 3
   },
   "file_extension": ".py",
   "mimetype": "text/x-python",
   "name": "python",
   "nbconvert_exporter": "python",
   "pygments_lexer": "ipython3",
   "version": "3.6.5"
  }
 },
 "nbformat": 4,
 "nbformat_minor": 2
}
