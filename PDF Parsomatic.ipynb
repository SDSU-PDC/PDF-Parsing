{
 "cells": [
  {
   "cell_type": "code",
   "execution_count": 15,
   "metadata": {},
   "outputs": [],
   "source": [
    "import pandas as pd\n",
    "import numpy as np\n",
    "import os\n",
    "from tika import parser\n",
    "import re"
   ]
  },
  {
   "cell_type": "markdown",
   "metadata": {},
   "source": [
    "###  Loops through directory and output .csv"
   ]
  },
  {
   "cell_type": "code",
   "execution_count": 71,
   "metadata": {},
   "outputs": [
    {
     "name": "stdout",
     "output_type": "stream",
     "text": [
      "1 pages date:10/31/2018\n",
      "1 pages date:8/14/18\n",
      "1 pages date:8/14/18\n",
      "1 pages date:09/11/2018\n",
      "1 pages date:8/14/18\n",
      "1 pages date:10/02/2018\n",
      "1 pages date:09/11/2018\n",
      "1 pages date:10/24/2018\n",
      "1 pages date:08/31/18\n",
      "1 pages date:08/31/18\n",
      "1 pages date:10/11/13\n",
      "1 pages date:8/8/2018\n",
      "1 pages date:10/24/2018\n",
      "1 pages date:10/24/2018\n",
      "1 pages date:10/31/2018\n",
      "1 pages date:10/11/13\n",
      "1 pages date:10/11/13\n",
      "1 pages date:10/11/13\n",
      "1 pages date:10/11/13\n",
      "1 pages date:10/31/2018\n",
      "1 pages date:09/11/2018\n",
      "1 pages date:09/11/2018\n",
      "1 pages date:10/31/2018\n",
      "1 pages date:10/31/2018\n",
      "1 pages date:09/11/2018\n",
      "1 pages date:08/13/2018\n",
      "1 pages date:8/14/18\n",
      "1 pages date:10/11/18\n",
      "1 pages date:10/11/18\n",
      "1 pages date:8/10/18\n",
      "1 pages date:8/14/18\n",
      "1 pages date:9/4/18\n",
      "1 pages date:8/14/18\n",
      "1 pages date:8/14/18\n",
      "1 pages date:08/31/2018\n",
      "Number of files in directory:\n",
      "52\n",
      "Number of files read:\n",
      "35\n",
      "Not all files processed...\n"
     ]
    }
   ],
   "source": [
    "dir = os.chdir(r\"G:\\My Drive\\FIS\\Archiving In Progress\\Cuic Laundry Closeout\\Warranty Letters\\Installer's Warranties\")\n",
    "\n",
    "#These lists gets filled with yummy data\n",
    "fileList = []\n",
    "dateList = []\n",
    "numPages = []\n",
    "\n",
    "for file in os.listdir():\n",
    "    try:\n",
    "        #pages = len(parser.from_file(file)) #uses the Tika parser's raw dict to get the number of pages\n",
    "        rawData = parser.from_file(file) #This pulls out the raw data dict\n",
    "        raw = str(rawData).replace(\" \",\"\") #Stringify the raw data so it can go into a list\n",
    "        df_dict = pd.DataFrame.from_dict(rawData) #turn that string into a Pandas dataframe\n",
    "        pages = str(df_dict.loc[\"xmpTPg:NPages\", \"metadata\"]) \n",
    "        #The regex below is for mm/dd/yy or m/dd/yyyy\n",
    "        dateExtract = re.compile(\"((0?[13578]|10|12)(\\/)(([1-9])|(0[1-9])|([12])([0-9]?)|(3[01]?))(-|\\/)((19)([2-9])(\\d{1})|(20)([01])(\\d{1})|([8901])(\\d{1}))|(0?[2469]|11)(-|\\/)(([1-9])|(0[1-9])|([12])([0-9]?)|(3[0]?))(-|\\/)((19)([2-9])(\\d{1})|(20)([01])(\\d{1})|([8901])(\\d{1})))\").search(raw).group(0)\n",
    "        dateList.append(dateExtract) #put the dates in the list\n",
    "        fileList.append(file) #put the filenames in the list\n",
    "        numPages.append(pages) #put the page quantity in the list\n",
    "        print(pages + ' pages ' + 'date:' + dateExtract) #a little something to show what's happening\n",
    "    except:\n",
    "        pass\n",
    "\n",
    "df = pd.DataFrame({'Filename': fileList, 'Date': dateList, 'Page Count': numPages}) #Stick the results in a df\n",
    "\n",
    "print('Number of files in directory:') \n",
    "print(len(os.listdir()))\n",
    "print('Number of files read:')\n",
    "print(len(fileList))\n",
    "\n",
    "if len(os.listdir()) == len(fileList):\n",
    "    print('Success!')\n",
    "    \n",
    "else:\n",
    "    print('Not all files processed...')\n"
   ]
  },
  {
   "cell_type": "code",
   "execution_count": 72,
   "metadata": {},
   "outputs": [],
   "source": [
    "df.to_csv('file_info.csv')\n"
   ]
  },
  {
   "cell_type": "markdown",
   "metadata": {},
   "source": [
    "### This is a sandbox\n"
   ]
  },
  {
   "cell_type": "code",
   "execution_count": 129,
   "metadata": {},
   "outputs": [],
   "source": [
    "pdf_file = r\"G:\\My Drive\\FIS\\Archiving In Progress\\Cuic Laundry Closeout\\RFI's (Answered)\\033_Cuicacalli_Kitchen_Laundry_RFI_001_Ada_Clearance_At_Sink.pdf\""
   ]
  },
  {
   "cell_type": "code",
   "execution_count": 222,
   "metadata": {},
   "outputs": [],
   "source": [
    "'''Use Tika to read pdf file (gets stored into a dict)'''\n",
    "raw = parser.from_file(pdf_file)\n",
    "len(raw)#dateExtract = re.compile(\"(DATE: \\d{2})[/.-](\\d{2})[/.-](\\d{2})\").search(raw).group(0)\n",
    "#dateExtract\n",
    "df_dict = pd.DataFrame.from_dict(raw)\n",
    "df_dict.drop(['status', 'content'], axis=1, inplace=True)\n",
    "numPages = str(df_dict.loc[\"xmpTPg:NPages\", \"metadata\"])\n",
    "#df_dict\n",
    "#df_dict.loc(xmpTPg:NPages)\n",
    "#raw\n",
    "#numPages = raw[\"xmpTPg:NPages\"]\n",
    "#print(numPages)\n",
    "#xmpTPg:NPages\n",
    "#raw.items()"
   ]
  },
  {
   "cell_type": "markdown",
   "metadata": {},
   "source": [
    "###  This works with RFIs from Kitchell"
   ]
  },
  {
   "cell_type": "code",
   "execution_count": 175,
   "metadata": {
    "collapsed": true
   },
   "outputs": [
    {
     "name": "stdout",
     "output_type": "stream",
     "text": [
      "<class 'str'>\n",
      "DATE: 03/20/18\n",
      "<class 'str'>\n",
      "DATE: 03/20/18\n",
      "<class 'str'>\n",
      "DATE: 03/20/18\n",
      "<class 'str'>\n",
      "DATE: 03/20/18\n",
      "<class 'str'>\n",
      "DATE: 03/20/18\n",
      "<class 'str'>\n",
      "DATE: 03/20/18\n",
      "<class 'str'>\n",
      "DATE: 03/20/18\n",
      "<class 'str'>\n",
      "DATE: 03/20/18\n",
      "<class 'str'>\n",
      "DATE: 03/20/18\n",
      "<class 'str'>\n",
      "DATE: 03/20/18\n",
      "<class 'str'>\n",
      "DATE: 03/20/18\n",
      "<class 'str'>\n",
      "DATE: 03/20/18\n",
      "<class 'str'>\n",
      "DATE: 03/20/18\n",
      "<class 'str'>\n",
      "DATE: 03/20/18\n",
      "<class 'str'>\n",
      "DATE: 03/20/18\n",
      "<class 'str'>\n",
      "DATE: 03/20/18\n",
      "<class 'str'>\n",
      "DATE: 03/20/18\n",
      "<class 'str'>\n",
      "DATE: 03/20/18\n",
      "<class 'str'>\n",
      "DATE: 03/20/18\n",
      "<class 'str'>\n",
      "DATE: 03/20/18\n",
      "<class 'str'>\n",
      "DATE: 03/20/18\n",
      "<class 'str'>\n",
      "DATE: 03/20/18\n",
      "<class 'str'>\n",
      "DATE: 03/20/18\n",
      "<class 'str'>\n",
      "DATE: 03/20/18\n",
      "<class 'str'>\n",
      "DATE: 03/20/18\n",
      "<class 'str'>\n",
      "DATE: 03/20/18\n",
      "<class 'str'>\n",
      "DATE: 03/20/18\n",
      "<class 'str'>\n",
      "DATE: 03/20/18\n",
      "<class 'str'>\n",
      "DATE: 03/20/18\n",
      "<class 'str'>\n",
      "DATE: 03/20/18\n",
      "<class 'str'>\n",
      "DATE: 03/20/18\n",
      "<class 'str'>\n",
      "DATE: 03/20/18\n",
      "<class 'str'>\n",
      "DATE: 03/20/18\n",
      "<class 'str'>\n",
      "DATE: 03/20/18\n",
      "<class 'str'>\n",
      "DATE: 03/20/18\n",
      "<class 'str'>\n",
      "DATE: 03/20/18\n",
      "<class 'str'>\n",
      "DATE: 03/20/18\n",
      "<class 'str'>\n",
      "DATE: 03/20/18\n",
      "<class 'str'>\n",
      "DATE: 03/20/18\n",
      "<class 'str'>\n",
      "DATE: 03/20/18\n"
     ]
    }
   ],
   "source": [
    "dir = os.chdir(r\"G:\\My Drive\\FIS\\Archiving In Progress\\Cuic Laundry Closeout\\RFI's (Answered)\")\n",
    "\n",
    "for file in os.listdir():\n",
    "    raw = str(parser.from_file(pdf_file)).replace('u200b', '').replace('\\\\',' ')\n",
    "    dateExtract = re.compile(\"(DATE: \\d{2})[/.-](\\d{2})[/.-](\\d{2})\").search(raw).group(0)\n",
    "    print(type(raw))\n",
    "    print(dateExtract)"
   ]
  },
  {
   "cell_type": "code",
   "execution_count": null,
   "metadata": {},
   "outputs": [],
   "source": []
  }
 ],
 "metadata": {
  "kernelspec": {
   "display_name": "Python 3",
   "language": "python",
   "name": "python3"
  },
  "language_info": {
   "codemirror_mode": {
    "name": "ipython",
    "version": 3
   },
   "file_extension": ".py",
   "mimetype": "text/x-python",
   "name": "python",
   "nbconvert_exporter": "python",
   "pygments_lexer": "ipython3",
   "version": "3.6.5"
  }
 },
 "nbformat": 4,
 "nbformat_minor": 2
}
