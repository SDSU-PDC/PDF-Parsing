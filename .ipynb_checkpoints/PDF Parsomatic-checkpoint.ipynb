{
 "cells": [
  {
   "cell_type": "code",
   "execution_count": 1,
   "metadata": {},
   "outputs": [],
   "source": [
    "import pandas as pd\n",
    "import numpy as np\n",
    "import os\n",
    "from pdfminer import pdfparser\n",
    "import PyPDF2 as pdf\n",
    "from tika import parser"
   ]
  },
  {
   "cell_type": "code",
   "execution_count": 6,
   "metadata": {},
   "outputs": [],
   "source": [
    "os.chdir(r\"G:\\My Drive\\FIS\\Archiving In Progress\\Cuic Laundry Closeout\\Submittals\")"
   ]
  },
  {
   "cell_type": "code",
   "execution_count": 7,
   "metadata": {
    "scrolled": true
   },
   "outputs": [
    {
     "data": {
      "text/plain": [
       "['033_Cuicacalli_Kitchen_Laundry_03_54_16-0_Hydraulic_Cement_Underlayment_-_Patch_&_Repair_Compound.pdf',\n",
       " '033_Cuicacalli_Kitchen_Laundry_06_41_00-0_Architectural_Wood_Casework_-_Casework_Product_Data.pdf',\n",
       " '033_Cuicacalli_Kitchen_Laundry_06_41_00-0_Architectural_Wood_Casework_-_Samples.pdf',\n",
       " '033_Cuicacalli_Kitchen_Laundry_06_41_00-0_Architectural_Wood_Casework-Shop_Drawings.pdf',\n",
       " '033_Cuicacalli_Kitchen_Laundry_06_41_00-1_Architectural_Wood_Casework-Shop_Drawings.pdf',\n",
       " '033_Cuicacalli_Kitchen_Laundry_08_14_16-0_Doors,_Frames,_Hardware.pdf',\n",
       " '033_Cuicacalli_Kitchen_Laundry_08_14_16-0_Flush_Wood_Doors_-_Wood_Door_Sample_-.pdf',\n",
       " '033_Cuicacalli_Kitchen_Laundry_08_14_16-1_Doors,_Frames,_Hardware.pdf',\n",
       " '033_Cuicacalli_Kitchen_Laundry_08_31_13-0_Access_Panels_-_Product_Data.pdf',\n",
       " '033_Cuicacalli_Kitchen_Laundry_08_33_26-0_Overhead_Coiling_Grilles_-_Product_Data_&_Shop_Drawings.pdf',\n",
       " '033_Cuicacalli_Kitchen_Laundry_08_43_15-0_Interior_Aluminum-Framed_Entrances_&_Storefronts_-_Sill_Anchor.pdf',\n",
       " '033_Cuicacalli_Kitchen_Laundry_08_43_15-0_Interior_Aluminum-Framed_Entrances_&_Storefronts.pdf',\n",
       " '033_Cuicacalli_Kitchen_Laundry_09_05_16-0_Preparation_of_Concrete_Substrates_for_Finish_Flooring_-_Moisture_Barrier.pdf',\n",
       " '033_Cuicacalli_Kitchen_Laundry_09_22_16-0_Non-Structural_Metal_Framing_-_Product_Data_&_Shop_Drawings.pdf',\n",
       " '033_Cuicacalli_Kitchen_Laundry_09_24_00-0_Cement_Plastering_-_Product_Data.pdf',\n",
       " '033_Cuicacalli_Kitchen_Laundry_09_29_00-0_Gypsum_Board_-_Product_Data.pdf',\n",
       " '033_Cuicacalli_Kitchen_Laundry_09_30_00-0_Tiling_-_Product_Data.pdf',\n",
       " '033_Cuicacalli_Kitchen_Laundry_09_30_00-0_Tiling_-_Samples.pdf',\n",
       " '033_Cuicacalli_Kitchen_Laundry_09_51_13-0_Acoustical_Ceilings_-_Samples.pdf',\n",
       " '033_Cuicacalli_Kitchen_Laundry_09_51_13-0_Acoustical_Panel_Ceilings-Product_Data.pdf',\n",
       " '033_Cuicacalli_Kitchen_Laundry_09_54_27-0_Linear_Wood_Ceilings_-_9Wood_Shop_Drawings.pdf',\n",
       " '033_Cuicacalli_Kitchen_Laundry_09_54_27-0_Linear_Wood_Ceilings_Samples_-.pdf',\n",
       " '033_Cuicacalli_Kitchen_Laundry_09_54_27-0_Linear_Wood_Ceilings-Product_Data.pdf',\n",
       " '033_Cuicacalli_Kitchen_Laundry_09_65_00-0_Resilient_Flooring_-_Product_Data_and_Samples.pdf',\n",
       " '033_Cuicacalli_Kitchen_Laundry_09_65_13-0_Resilient_Base_and_Accessories_-_Product_Data.pdf',\n",
       " '033_Cuicacalli_Kitchen_Laundry_09_81_33-0_Acoustical_Insulation__Sealants__and_Accessories_-_2.5_Firestop_Product_Data.pdf',\n",
       " '033_Cuicacalli_Kitchen_Laundry_09_91_00-0_Painting_-_Exterior_Sample.pdf',\n",
       " '033_Cuicacalli_Kitchen_Laundry_09_91_00-0_Painting_-_Samples_-.pdf',\n",
       " '033_Cuicacalli_Kitchen_Laundry_10_11_16-0_Furniture_-_Furniture_Items.pdf',\n",
       " '033_Cuicacalli_Kitchen_Laundry_10_14_00-0_Signage_-_Shop_Drawings.pdf',\n",
       " '033_Cuicacalli_Kitchen_Laundry_10_44_00-0_Fire_Extinguisher_Cabinet_(FEC)_-_Product_Data.pdf',\n",
       " '033_Cuicacalli_Kitchen_Laundry_11_52_23-0_Monitor_Mounts_-_Product_Data.pdf',\n",
       " '033_Cuicacalli_Kitchen_Laundry_12_24_13-0_Roller_Window_Shades_Product_Data_and_Shop_Drawings.pdf',\n",
       " '033_Cuicacalli_Kitchen_Laundry_12_24_13-1_Roller_Window_Shades-Samples.pdf',\n",
       " '033_Cuicacalli_Kitchen_Laundry_12_36_63-0_Quartz_Agglomerate_Countertops_-_Countertops_Product_Data.pdf',\n",
       " '033_Cuicacalli_Kitchen_Laundry_21_10_00-0_Fire_Suppression_Systems_-_Fire_Sprinkler_PD.pdf',\n",
       " '033_Cuicacalli_Kitchen_Laundry_22_05_23.12-0_Ball_Valves_for_Plumbing_Piping_-_Bronze_Ball_Valves.pdf',\n",
       " '033_Cuicacalli_Kitchen_Laundry_22_05_29-0_Hangers_&_Supports_for_Plumbing_-_Hangers_and_Support.pdf',\n",
       " '033_Cuicacalli_Kitchen_Laundry_22_05_53-0_Identification_for_Plumbing_-_Tags_and_Label.pdf',\n",
       " '033_Cuicacalli_Kitchen_Laundry_22_07_19-0_Plumbing_Piping_Insulation_-_Insulation_and_Accessories.pdf',\n",
       " '033_Cuicacalli_Kitchen_Laundry_22_11_16-0_Domestic_Water_Piping_-_Pipe_Materials_Fittings_&_Joint.pdf',\n",
       " '033_Cuicacalli_Kitchen_Laundry_22_11_19-0_Domestic_Water_Piping_Specialties_-_Backflow_Preventer_and_Outlet_Box.pdf',\n",
       " '033_Cuicacalli_Kitchen_Laundry_22_11_19-0_Domestic_Water_Piping_Specialties_-_Circuit_Solver.pdf',\n",
       " '033_Cuicacalli_Kitchen_Laundry_22_13_16-0_Sanitary_Waste_Vent_Piping_-_Pipe_&_Fitting.pdf',\n",
       " '033_Cuicacalli_Kitchen_Laundry_22_40_00-0_Plumbing_Fixtures_-_Sinks_&_Clothes_Washer__Bo.pdf',\n",
       " '033_Cuicacalli_Kitchen_Laundry_22_40_00-1_Plumbing_Fixtures_-_Sinks_&_Clothes_Washer__Box.pdf',\n",
       " '033_Cuicacalli_Kitchen_Laundry_23_05_23.12_Ball_Valves_HVAC_Piping_-_Two-Piece_Bronze__Valves.pdf',\n",
       " '033_Cuicacalli_Kitchen_Laundry_23_05_29-0_Hangers_&_Supports_for_HVAC_Piping_-_Hangers_and_Supports.pdf',\n",
       " '033_Cuicacalli_Kitchen_Laundry_23_05_29-0_Hangers_and_Supports_for_HVAC_Piping_and_Equipment_-_Equipment_Supports.pdf',\n",
       " '033_Cuicacalli_Kitchen_Laundry_23_05_93-0_TAB_for_HVAC_-_Preconstruction_TAB_Report.pdf',\n",
       " '033_Cuicacalli_Kitchen_Laundry_23_07_19-0_HVAC_Piping_Insulation_-_Insulation_&_Accessories.pdf',\n",
       " '033_Cuicacalli_Kitchen_Laundry_23_11_23-0_Natural_Gas_Piping_-_Piping_&_Valves.pdf',\n",
       " '033_Cuicacalli_Kitchen_Laundry_23_21_13-0_Hydronic_Piping_-_Pipe_and_Fittings.pdf',\n",
       " '033_Cuicacalli_Kitchen_Laundry_23_31_13-0_Metal_Ducts_-_Product_Data.pdf',\n",
       " '033_Cuicacalli_Kitchen_Laundry_23_33_00-0_Air_Duct_Accessories_-_Exhaust_Fan.pdf',\n",
       " '033_Cuicacalli_Kitchen_Laundry_23_33_00-0_Air_Duct_Accessories_-_Linear_Diffusers.pdf',\n",
       " '033_Cuicacalli_Kitchen_Laundry_23_33_00-0_Duct_Accessories_-_Volume_Dampers_and_Access_Doors.pdf',\n",
       " '033_Cuicacalli_Kitchen_Laundry_23_37_13-0_Grilles_Registers_and_Diffusers_-_Product_Data.pdf',\n",
       " '033_Cuicacalli_Kitchen_Laundry_23_82_19-0_Fan_Coil_Units_-_Assembly_Room_Units_A-1__A-2__&_A-3.pdf',\n",
       " '033_Cuicacalli_Kitchen_Laundry_23_82_19-0_Fan_Coil_Units_Product_Data.pdf',\n",
       " '033_Cuicacalli_Kitchen_Laundry_26_05_19-0_Wire_and_Cable_-_Product_Data.pdf',\n",
       " '033_Cuicacalli_Kitchen_Laundry_26_05_26-0_Grounding_and_Bonding_-_Product_Data.pdf',\n",
       " '033_Cuicacalli_Kitchen_Laundry_26_05_29-0_Hangers_and_Support_for_Electrical_Systems_-_Product_Data.pdf',\n",
       " '033_Cuicacalli_Kitchen_Laundry_26_05_33-0_Raceways_-_Product_Data.pdf',\n",
       " '033_Cuicacalli_Kitchen_Laundry_26_05_34-0_Boxes-Product_Data.pdf',\n",
       " '033_Cuicacalli_Kitchen_Laundry_26_09_43-0_Distributed_Digital_Lighting_Control_System_-_Shop_Drawings.pdf',\n",
       " '033_Cuicacalli_Kitchen_Laundry_26_09_43-0_Distributed_Digital_Lighting_Control_System_-Product_Data.pdf',\n",
       " '033_Cuicacalli_Kitchen_Laundry_26_24_16-0_Panelboards_Product_Data-(REV)_with_co.pdf',\n",
       " '033_Cuicacalli_Kitchen_Laundry_26_24_16-0_Panelboards_Product_Data.pdf',\n",
       " '033_Cuicacalli_Kitchen_Laundry_26_27_26-0_Wiring_Devices_and_Connectors_Cover_plates_&_Receptacles-Product_data.pdf',\n",
       " '033_Cuicacalli_Kitchen_Laundry_26_51_00-0_Interior_Lighting_-_Luminaire.pdf',\n",
       " '033_Cuicacalli_Kitchen_Laundry_26_51_00-1_Interior_Lighting_-_Luminaires.pdf',\n",
       " '033_Cuicacalli_Kitchen_Laundry_28_00_00-0_Security_-_Product_Data.pdf',\n",
       " '033_Cuicacalli_Kitchen_Laundry_28_31_11-0_Fire_Alarm_-_Product_Data.pdf']"
      ]
     },
     "execution_count": 7,
     "metadata": {},
     "output_type": "execute_result"
    }
   ],
   "source": [
    "os.listdir()"
   ]
  },
  {
   "cell_type": "code",
   "execution_count": 85,
   "metadata": {},
   "outputs": [],
   "source": [
    "pdf_file = r\"G:\\My Drive\\FIS\\Archiving In Progress\\Cuic Laundry Closeout\\Submittals\\033_Cuicacalli_Kitchen_Laundry_06_41_00-0_Architectural_Wood_Casework_-_Casework_Product_Data.pdf\""
   ]
  },
  {
   "cell_type": "markdown",
   "metadata": {},
   "source": [
    "\n",
    "### Tika Testing\n",
    "This approach works, but isn't ideal because it requires specific index locations.  A better approach will be to determine how to extract anything with 'date' via regex from the extracted text.\n"
   ]
  },
  {
   "cell_type": "code",
   "execution_count": 91,
   "metadata": {},
   "outputs": [
    {
     "data": {
      "text/plain": [
       "['Date:', '04/25/18']"
      ]
     },
     "execution_count": 91,
     "metadata": {},
     "output_type": "execute_result"
    }
   ],
   "source": [
    "'''Use Tika to read pdf file (gets stored into a dict)'''\n",
    "raw = parser.from_file(pdf_file)\n",
    "\n",
    "'''Convert raw dict into a dataframe'''\n",
    "df = pd.DataFrame.from_dict(raw, orient='index')\n",
    "\n",
    "'''reset the index'''\n",
    "df.reset_index(inplace=True)\n",
    "\n",
    "'''\n",
    "Get the date by stringifying the index location of the date, extracting the column labeled '0', replacing carriage returns, \n",
    "'''\n",
    "content = str(df.loc[1][0]).replace('\\n','').strip().split()[8:10]\n",
    "content"
   ]
  },
  {
   "cell_type": "code",
   "execution_count": null,
   "metadata": {},
   "outputs": [],
   "source": []
  },
  {
   "cell_type": "markdown",
   "metadata": {},
   "source": [
    "###  Now to figure out to to loop it and put it into a df or list....."
   ]
  },
  {
   "cell_type": "code",
   "execution_count": 90,
   "metadata": {},
   "outputs": [],
   "source": [
    "outputFile = []\n",
    "\n",
    "dir = os.chdir(r\"G:\\My Drive\\FIS\\Archiving In Progress\\Cuic Laundry Closeout\\Submittals\")\n",
    "\n",
    "\n"
   ]
  },
  {
   "cell_type": "code",
   "execution_count": null,
   "metadata": {},
   "outputs": [],
   "source": []
  }
 ],
 "metadata": {
  "kernelspec": {
   "display_name": "Python 3",
   "language": "python",
   "name": "python3"
  },
  "language_info": {
   "codemirror_mode": {
    "name": "ipython",
    "version": 3
   },
   "file_extension": ".py",
   "mimetype": "text/x-python",
   "name": "python",
   "nbconvert_exporter": "python",
   "pygments_lexer": "ipython3",
   "version": "3.6.5"
  }
 },
 "nbformat": 4,
 "nbformat_minor": 2
}
